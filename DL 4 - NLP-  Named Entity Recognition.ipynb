{
 "cells": [
  {
   "cell_type": "code",
   "execution_count": null,
   "id": "d1bd2245",
   "metadata": {},
   "outputs": [],
   "source": [
    "#==============================================================================\n",
    "# CellStrat Hub Pack - Natural Language Processing\n",
    "# Compatible tier : Free Tier or above \n",
    "# Kernel : conda_pytorch_latest_p36 \n",
    "#=============================================================================="
   ]
  },
  {
   "cell_type": "code",
   "execution_count": null,
   "id": "485aed22",
   "metadata": {},
   "outputs": [],
   "source": [
    "#==============================================================================================\n",
    "#The named entity recognition (NER) module recognizes mention spans of a particular entity type\n",
    "#(e.g., Person or Organization) in the input sentence. \n",
    "# NER is widely used in areas such as information extraction or question answering systems. \n",
    "# In Stanza, NER is performed by the NERProcessor and can be invoked by the name ner\n",
    "#=============================================================================================="
   ]
  },
  {
   "cell_type": "code",
   "execution_count": null,
   "id": "1cfcae23",
   "metadata": {},
   "outputs": [],
   "source": [
    "#==================================================================================\n",
    "#Stanza is a collection of accurate and efficient tools for the linguistic analysis\n",
    "# of many human languages.\n",
    "#Starting from raw text to syntactic analysis and entity recognition, \n",
    "# Stanza brings state-of-the-art NLP models to languages of your choosing.\n",
    "#=================================================================================="
   ]
  },
  {
   "cell_type": "code",
   "execution_count": 1,
   "id": "0369884a",
   "metadata": {},
   "outputs": [
    {
     "name": "stdout",
     "output_type": "stream",
     "text": [
      "Collecting stanza\n",
      "  Downloading stanza-1.2.1-py3-none-any.whl (334 kB)\n",
      "\u001b[K     |████████████████████████████████| 334 kB 15.1 MB/s eta 0:00:01\n",
      "\u001b[?25hRequirement already satisfied: requests in /home/ec2-user/anaconda3/envs/pytorch_latest_p36/lib/python3.6/site-packages (from stanza) (2.25.1)\n",
      "Requirement already satisfied: numpy in /home/ec2-user/anaconda3/envs/pytorch_latest_p36/lib/python3.6/site-packages (from stanza) (1.19.2)\n",
      "Requirement already satisfied: protobuf in /home/ec2-user/anaconda3/envs/pytorch_latest_p36/lib/python3.6/site-packages (from stanza) (3.17.3)\n",
      "Requirement already satisfied: torch>=1.3.0 in /home/ec2-user/anaconda3/envs/pytorch_latest_p36/lib/python3.6/site-packages (from stanza) (1.7.1)\n",
      "Collecting tqdm\n",
      "  Downloading tqdm-4.61.1-py2.py3-none-any.whl (75 kB)\n",
      "\u001b[K     |████████████████████████████████| 75 kB 7.6 MB/s  eta 0:00:01\n",
      "\u001b[?25hRequirement already satisfied: typing_extensions in /home/ec2-user/anaconda3/envs/pytorch_latest_p36/lib/python3.6/site-packages (from torch>=1.3.0->stanza) (3.7.4.3)\n",
      "Requirement already satisfied: dataclasses in /home/ec2-user/anaconda3/envs/pytorch_latest_p36/lib/python3.6/site-packages (from torch>=1.3.0->stanza) (0.8)\n",
      "Requirement already satisfied: six>=1.9 in /home/ec2-user/anaconda3/envs/pytorch_latest_p36/lib/python3.6/site-packages (from protobuf->stanza) (1.15.0)\n",
      "Requirement already satisfied: idna<3,>=2.5 in /home/ec2-user/anaconda3/envs/pytorch_latest_p36/lib/python3.6/site-packages (from requests->stanza) (2.10)\n",
      "Requirement already satisfied: urllib3<1.27,>=1.21.1 in /home/ec2-user/anaconda3/envs/pytorch_latest_p36/lib/python3.6/site-packages (from requests->stanza) (1.26.5)\n",
      "Requirement already satisfied: chardet<5,>=3.0.2 in /home/ec2-user/anaconda3/envs/pytorch_latest_p36/lib/python3.6/site-packages (from requests->stanza) (3.0.4)\n",
      "Requirement already satisfied: certifi>=2017.4.17 in /home/ec2-user/anaconda3/envs/pytorch_latest_p36/lib/python3.6/site-packages (from requests->stanza) (2021.5.30)\n",
      "Installing collected packages: tqdm, stanza\n",
      "Successfully installed stanza-1.2.1 tqdm-4.61.1\n"
     ]
    }
   ],
   "source": [
    "# -*- coding: utf-8 -*-\n",
    "\n",
    "#==============================================================================\n",
    "# Install Stanza\n",
    "#==============================================================================\n",
    "!pip install stanza"
   ]
  },
  {
   "cell_type": "code",
   "execution_count": 2,
   "id": "6683b46e",
   "metadata": {},
   "outputs": [
    {
     "data": {
      "application/vnd.jupyter.widget-view+json": {
       "model_id": "a4fcf6cde0ff496085a5146e1b2293ca",
       "version_major": 2,
       "version_minor": 0
      },
      "text/plain": [
       "Downloading https://raw.githubusercontent.com/stanfordnlp/stanza-resources/main/resources_1.2.1.json:   0%|   …"
      ]
     },
     "metadata": {},
     "output_type": "display_data"
    },
    {
     "name": "stderr",
     "output_type": "stream",
     "text": [
      "2021-06-29 09:27:13 INFO: Downloading default packages for language: en (English)...\n"
     ]
    },
    {
     "data": {
      "application/vnd.jupyter.widget-view+json": {
       "model_id": "92fe088591384fbf91d96cc027cf4384",
       "version_major": 2,
       "version_minor": 0
      },
      "text/plain": [
       "Downloading http://nlp.stanford.edu/software/stanza/1.2.1/en/default.zip:   0%|          | 0.00/412M [00:00<?,…"
      ]
     },
     "metadata": {},
     "output_type": "display_data"
    },
    {
     "name": "stderr",
     "output_type": "stream",
     "text": [
      "2021-06-29 09:28:35 INFO: Finished downloading models and saved to /home/ec2-user/stanza_resources.\n"
     ]
    }
   ],
   "source": [
    "#==============================================================================\n",
    "# import the stanza library and download the english package\n",
    "#==============================================================================\n",
    "\n",
    "import stanza\n",
    "stanza.download('en')  "
   ]
  },
  {
   "cell_type": "code",
   "execution_count": 3,
   "id": "0c5e3173",
   "metadata": {},
   "outputs": [
    {
     "name": "stderr",
     "output_type": "stream",
     "text": [
      "2021-06-21 07:28:38 INFO: Loading these models for language: en (English):\n",
      "=========================\n",
      "| Processor | Package   |\n",
      "-------------------------\n",
      "| tokenize  | combined  |\n",
      "| pos       | combined  |\n",
      "| lemma     | combined  |\n",
      "| depparse  | combined  |\n",
      "| sentiment | sstplus   |\n",
      "| ner       | ontonotes |\n",
      "=========================\n",
      "\n",
      "2021-06-21 07:28:38 INFO: Use device: cpu\n",
      "2021-06-21 07:28:38 INFO: Loading: tokenize\n",
      "2021-06-21 07:28:39 INFO: Loading: pos\n",
      "2021-06-21 07:28:39 INFO: Loading: lemma\n",
      "2021-06-21 07:28:39 INFO: Loading: depparse\n",
      "2021-06-21 07:28:40 INFO: Loading: sentiment\n",
      "2021-06-21 07:28:40 INFO: Loading: ner\n",
      "2021-06-21 07:28:41 INFO: Done loading processors!\n"
     ]
    }
   ],
   "source": [
    "#==============================================================================\n",
    "#This sets up a default neural pipeline in English\n",
    "#==============================================================================\n",
    "nlp = stanza.Pipeline('en') \n",
    "\n"
   ]
  },
  {
   "cell_type": "code",
   "execution_count": 5,
   "id": "11d7489f",
   "metadata": {},
   "outputs": [
    {
     "name": "stdout",
     "output_type": "stream",
     "text": [
      "token: Barack\tner: B-PERSON\n",
      "token: Obama\tner: E-PERSON\n",
      "token: was\tner: O\n",
      "token: born\tner: O\n",
      "token: in\tner: O\n",
      "token: Hawaii\tner: S-GPE\n",
      "token: .\tner: O\n",
      "token: He\tner: O\n",
      "token: was\tner: O\n",
      "token: elected\tner: O\n",
      "token: president\tner: O\n",
      "token: in\tner: O\n",
      "token: 2008\tner: S-DATE\n",
      "token: .\tner: O\n"
     ]
    }
   ],
   "source": [
    "#==============================================================================\n",
    "#BIOES representation of the entities we saw above\n",
    "#Stanza correctly identifies that 'Barack' is a person,'Hawaii' as a location\n",
    "#==============================================================================\n",
    "doc = nlp(\"Barack Obama was born in Hawaii. He was elected president in 2008.\")\n",
    "\n",
    "print(*[f'token: {token.text}\\tner: {token.ner}' for sent in doc.sentences for token in sent.tokens], sep='\\n')"
   ]
  },
  {
   "cell_type": "code",
   "execution_count": null,
   "id": "35b74faa",
   "metadata": {},
   "outputs": [],
   "source": []
  }
 ],
 "metadata": {
  "kernelspec": {
   "display_name": "conda_pytorch_latest_p36",
   "language": "python",
   "name": "conda_pytorch_latest_p36"
  },
  "language_info": {
   "codemirror_mode": {
    "name": "ipython",
    "version": 3
   },
   "file_extension": ".py",
   "mimetype": "text/x-python",
   "name": "python",
   "nbconvert_exporter": "python",
   "pygments_lexer": "ipython3",
   "version": "3.6.13"
  }
 },
 "nbformat": 4,
 "nbformat_minor": 5
}
