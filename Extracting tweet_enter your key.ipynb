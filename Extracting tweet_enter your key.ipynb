{
 "cells": [
  {
   "cell_type": "code",
   "execution_count": 1,
   "id": "88f0da9c",
   "metadata": {},
   "outputs": [],
   "source": [
    "import tweepy\n",
    "import configparser"
   ]
  },
  {
   "cell_type": "code",
   "execution_count": 2,
   "id": "e525a2be",
   "metadata": {},
   "outputs": [],
   "source": [
    "api_key=\"\" #Enter your api_key\n",
    "api_key_secret=\"\" #Enter your api_key_secret"
   ]
  },
  {
   "cell_type": "code",
   "execution_count": 3,
   "id": "209a3f0c",
   "metadata": {},
   "outputs": [],
   "source": [
    "access_token=\"\" #Enter your access_token\n",
    "access_token_secret=\"\" #Enter your access_token_secret"
   ]
  },
  {
   "cell_type": "code",
   "execution_count": 4,
   "id": "daacfa09",
   "metadata": {},
   "outputs": [],
   "source": [
    "#authentication\n",
    "auth=tweepy.OAuthHandler(api_key,api_key_secret)\n",
    "auth.set_access_token(access_token, access_token_secret)"
   ]
  },
  {
   "cell_type": "code",
   "execution_count": 5,
   "id": "da8696d0",
   "metadata": {},
   "outputs": [],
   "source": [
    "api=tweepy.API(auth,wait_on_rate_limit=True)"
   ]
  },
  {
   "cell_type": "code",
   "execution_count": 6,
   "id": "c64a07c7",
   "metadata": {},
   "outputs": [],
   "source": [
    "public_tweets=api.home_timeline()"
   ]
  },
  {
   "cell_type": "code",
   "execution_count": 7,
   "id": "fb27938b",
   "metadata": {},
   "outputs": [
    {
     "name": "stdout",
     "output_type": "stream",
     "text": [
      "कल पराक्रम दिवस पर मां भारती की वीर संतानों के सम्मान में एक विशेष कार्यक्रम होगा। सुबह 11 बजे वीडियो कॉन्फ्रेंसिंग… https://t.co/5QFptpuuEG\n"
     ]
    }
   ],
   "source": [
    "print(public_tweets[0].text)"
   ]
  },
  {
   "cell_type": "code",
   "execution_count": 8,
   "id": "a4a78953",
   "metadata": {},
   "outputs": [
    {
     "name": "stdout",
     "output_type": "stream",
     "text": [
      "कल पराक्रम दिवस पर मां भारती की वीर संतानों के सम्मान में एक विशेष कार्यक्रम होगा। सुबह 11 बजे वीडियो कॉन्फ्रेंसिंग… https://t.co/5QFptpuuEG\n",
      "Attended the DGP/IGP Conference in Delhi. There were extensive deliberations on different aspects relating to the p… https://t.co/EjtGo21Faz\n",
      "HT @AlexFleischer1 &gt;&gt; Smart approaches to allocations in enterprise financial and operational planning:… https://t.co/yb53DrDbuh\n",
      "RT @Eli_Krumova: #IoTChampionsLeague Week 45 2022 FINAL Ranking:\n",
      "https://t.co/OL1IQhjKK8\n",
      "\n",
      "#Top10: 👏🏽\n",
      "@KirkDBorne\n",
      "@Eli_Krumova\n",
      "@MarcoDalPino…\n",
      "#Artificial_Intelligence Revolution — The Guide to Superintelligence: https://t.co/7PTupC3rlb by @HitechNectar \n",
      "———… https://t.co/cw0UgZ4Ksu\n",
      "RT @pierrepinna: Most Popular #MachineLearning Algorithms Explained in Less Than 1 Minute Each!\n",
      "👇 https://t.co/KQIJLjK00f v/ @kdnuggets\n",
      "#AI…\n",
      "Selling #Artificial_Intelligence To The Business — Keep It Clear, Keep It Simple: https://t.co/eEMYZ2ogvp by… https://t.co/uiWOovdL5J\n",
      "#DeepLearning vs #ReinforcementLearning:\n",
      "\n",
      "https://t.co/kQNJgD22AN by @UniteAi \n",
      "———\n",
      "#BigData #DataScience #AI… https://t.co/tQys36hz49\n",
      "Utkalika is proud to associate with the ongoing #HockeyWorldCup2023, supplying exquisite mementos crafted by the ta… https://t.co/VKRhMsEqRq\n",
      "[in case you missed it] Data Science Weekly - Issue 478 - https://t.co/KkqENT71KK\n",
      "RT @DhciOdisha: VARINDIA, India’s Frontline IT Magazine has honoured Shri Pankaj Sahoo, National Awardee Silver Filigree artisan as “Jewels…\n",
      "RT @Adhpuri: Raghurajpur Art Mahotsav 2023 alongwith Handicrafts Demonstration-cum-Exhibition inaugurated by Padmashree Pravakar Maharana a…\n",
      "PM Narendra Modi lauds CJI DY Chandrachud for push to make Supreme Court judgments available in regional languages… https://t.co/4XVlaoUhxD\n",
      "Man accused of leaving Leela Hotel without paying ₹24 lakh bill sent to police custody for 2 days\n",
      "\n",
      "report by… https://t.co/lMQw3UxLDx\n",
      "हमारे शिक्षकों का ये आत्मविश्वास देखिए। दिल्ली की शिक्षा क्रांति का आज अगर पूरे विश्व में नाम है तो वो हमारे शिक्ष… https://t.co/oeiTWIJfTI\n",
      "[Leela Hotel cheating case] Delhi's Patiala House Court grants Delhi Police two days custody of accused Mohammed Sh… https://t.co/arWZpzwizJ\n",
      "Prime Minister Narendra Modi lauds CJI DY Chandrachud's recent push for making Supreme Court judgments available in… https://t.co/Kl7IAxXroD\n",
      "Karnataka High Court orders ₹3 lakh compensation for \"grossly illegal arrest\", assault of advocate by police\n",
      "\n",
      "https://t.co/SwrvqYOCJ6\n",
      "India has several languages, which add to our cultural vibrancy. The Central Government is undertaking numerous eff… https://t.co/NZ8roo05Hj\n",
      "At a recent function, the Hon’ble CJI Justice DY Chandrachud spoke of the need to work towards making SC judgments… https://t.co/fOR1lQgxwU\n"
     ]
    }
   ],
   "source": [
    "for tweet in public_tweets:\n",
    "    print(tweet.text)"
   ]
  },
  {
   "cell_type": "code",
   "execution_count": 9,
   "id": "617b452e",
   "metadata": {},
   "outputs": [
    {
     "name": "stdout",
     "output_type": "stream",
     "text": [
      "narendramodi\n"
     ]
    }
   ],
   "source": [
    "print(public_tweets[0].user.screen_name)"
   ]
  },
  {
   "cell_type": "code",
   "execution_count": 10,
   "id": "402b2c8c",
   "metadata": {},
   "outputs": [],
   "source": [
    "import pandas as pd"
   ]
  },
  {
   "cell_type": "code",
   "execution_count": 11,
   "id": "43589d54",
   "metadata": {},
   "outputs": [],
   "source": [
    "columns=['Time','User','Tweet']\n",
    "data=[]\n",
    "for tweet in public_tweets:\n",
    "    data.append([tweet.created_at, tweet.user.screen_name, tweet.text])"
   ]
  },
  {
   "cell_type": "code",
   "execution_count": 12,
   "id": "3ceee808",
   "metadata": {},
   "outputs": [],
   "source": [
    "df=pd.DataFrame(data, columns=columns)"
   ]
  },
  {
   "cell_type": "code",
   "execution_count": 13,
   "id": "7f815d70",
   "metadata": {},
   "outputs": [
    {
     "data": {
      "text/html": [
       "<div>\n",
       "<style scoped>\n",
       "    .dataframe tbody tr th:only-of-type {\n",
       "        vertical-align: middle;\n",
       "    }\n",
       "\n",
       "    .dataframe tbody tr th {\n",
       "        vertical-align: top;\n",
       "    }\n",
       "\n",
       "    .dataframe thead th {\n",
       "        text-align: right;\n",
       "    }\n",
       "</style>\n",
       "<table border=\"1\" class=\"dataframe\">\n",
       "  <thead>\n",
       "    <tr style=\"text-align: right;\">\n",
       "      <th></th>\n",
       "      <th>Time</th>\n",
       "      <th>User</th>\n",
       "      <th>Tweet</th>\n",
       "    </tr>\n",
       "  </thead>\n",
       "  <tbody>\n",
       "    <tr>\n",
       "      <th>0</th>\n",
       "      <td>2023-01-22 15:04:05+00:00</td>\n",
       "      <td>narendramodi</td>\n",
       "      <td>कल पराक्रम दिवस पर मां भारती की वीर संतानों के...</td>\n",
       "    </tr>\n",
       "    <tr>\n",
       "      <th>1</th>\n",
       "      <td>2023-01-22 14:55:56+00:00</td>\n",
       "      <td>narendramodi</td>\n",
       "      <td>Attended the DGP/IGP Conference in Delhi. Ther...</td>\n",
       "    </tr>\n",
       "    <tr>\n",
       "      <th>2</th>\n",
       "      <td>2023-01-22 14:47:19+00:00</td>\n",
       "      <td>KirkDBorne</td>\n",
       "      <td>HT @AlexFleischer1 &amp;gt;&amp;gt; Smart approaches t...</td>\n",
       "    </tr>\n",
       "    <tr>\n",
       "      <th>3</th>\n",
       "      <td>2023-01-22 14:42:47+00:00</td>\n",
       "      <td>KirkDBorne</td>\n",
       "      <td>RT @Eli_Krumova: #IoTChampionsLeague Week 45 2...</td>\n",
       "    </tr>\n",
       "    <tr>\n",
       "      <th>4</th>\n",
       "      <td>2023-01-22 14:42:17+00:00</td>\n",
       "      <td>KirkDBorne</td>\n",
       "      <td>#Artificial_Intelligence Revolution — The Guid...</td>\n",
       "    </tr>\n",
       "    <tr>\n",
       "      <th>5</th>\n",
       "      <td>2023-01-22 14:33:35+00:00</td>\n",
       "      <td>KirkDBorne</td>\n",
       "      <td>RT @pierrepinna: Most Popular #MachineLearning...</td>\n",
       "    </tr>\n",
       "    <tr>\n",
       "      <th>6</th>\n",
       "      <td>2023-01-22 14:32:50+00:00</td>\n",
       "      <td>KirkDBorne</td>\n",
       "      <td>Selling #Artificial_Intelligence To The Busine...</td>\n",
       "    </tr>\n",
       "    <tr>\n",
       "      <th>7</th>\n",
       "      <td>2023-01-22 14:27:02+00:00</td>\n",
       "      <td>KirkDBorne</td>\n",
       "      <td>#DeepLearning vs #ReinforcementLearning:\\n\\nht...</td>\n",
       "    </tr>\n",
       "    <tr>\n",
       "      <th>8</th>\n",
       "      <td>2023-01-22 13:35:36+00:00</td>\n",
       "      <td>HTH_Odisha</td>\n",
       "      <td>Utkalika is proud to associate with the ongoin...</td>\n",
       "    </tr>\n",
       "    <tr>\n",
       "      <th>9</th>\n",
       "      <td>2023-01-22 12:37:12+00:00</td>\n",
       "      <td>DataSciNews</td>\n",
       "      <td>[in case you missed it] Data Science Weekly - ...</td>\n",
       "    </tr>\n",
       "    <tr>\n",
       "      <th>10</th>\n",
       "      <td>2023-01-22 12:31:26+00:00</td>\n",
       "      <td>HTH_Odisha</td>\n",
       "      <td>RT @DhciOdisha: VARINDIA, India’s Frontline IT...</td>\n",
       "    </tr>\n",
       "    <tr>\n",
       "      <th>11</th>\n",
       "      <td>2023-01-22 12:29:47+00:00</td>\n",
       "      <td>HTH_Odisha</td>\n",
       "      <td>RT @Adhpuri: Raghurajpur Art Mahotsav 2023 alo...</td>\n",
       "    </tr>\n",
       "    <tr>\n",
       "      <th>12</th>\n",
       "      <td>2023-01-22 12:18:03+00:00</td>\n",
       "      <td>barandbench</td>\n",
       "      <td>PM Narendra Modi lauds CJI DY Chandrachud for ...</td>\n",
       "    </tr>\n",
       "    <tr>\n",
       "      <th>13</th>\n",
       "      <td>2023-01-22 11:58:39+00:00</td>\n",
       "      <td>barandbench</td>\n",
       "      <td>Man accused of leaving Leela Hotel without pay...</td>\n",
       "    </tr>\n",
       "    <tr>\n",
       "      <th>14</th>\n",
       "      <td>2023-01-22 11:39:47+00:00</td>\n",
       "      <td>ArvindKejriwal</td>\n",
       "      <td>हमारे शिक्षकों का ये आत्मविश्वास देखिए। दिल्ली...</td>\n",
       "    </tr>\n",
       "    <tr>\n",
       "      <th>15</th>\n",
       "      <td>2023-01-22 11:35:51+00:00</td>\n",
       "      <td>barandbench</td>\n",
       "      <td>[Leela Hotel cheating case] Delhi's Patiala Ho...</td>\n",
       "    </tr>\n",
       "    <tr>\n",
       "      <th>16</th>\n",
       "      <td>2023-01-22 11:32:48+00:00</td>\n",
       "      <td>barandbench</td>\n",
       "      <td>Prime Minister Narendra Modi lauds CJI DY Chan...</td>\n",
       "    </tr>\n",
       "    <tr>\n",
       "      <th>17</th>\n",
       "      <td>2023-01-22 11:24:27+00:00</td>\n",
       "      <td>barandbench</td>\n",
       "      <td>Karnataka High Court orders ₹3 lakh compensati...</td>\n",
       "    </tr>\n",
       "    <tr>\n",
       "      <th>18</th>\n",
       "      <td>2023-01-22 10:59:23+00:00</td>\n",
       "      <td>narendramodi</td>\n",
       "      <td>India has several languages, which add to our ...</td>\n",
       "    </tr>\n",
       "    <tr>\n",
       "      <th>19</th>\n",
       "      <td>2023-01-22 10:58:40+00:00</td>\n",
       "      <td>narendramodi</td>\n",
       "      <td>At a recent function, the Hon’ble CJI Justice ...</td>\n",
       "    </tr>\n",
       "  </tbody>\n",
       "</table>\n",
       "</div>"
      ],
      "text/plain": [
       "                        Time            User  \\\n",
       "0  2023-01-22 15:04:05+00:00    narendramodi   \n",
       "1  2023-01-22 14:55:56+00:00    narendramodi   \n",
       "2  2023-01-22 14:47:19+00:00      KirkDBorne   \n",
       "3  2023-01-22 14:42:47+00:00      KirkDBorne   \n",
       "4  2023-01-22 14:42:17+00:00      KirkDBorne   \n",
       "5  2023-01-22 14:33:35+00:00      KirkDBorne   \n",
       "6  2023-01-22 14:32:50+00:00      KirkDBorne   \n",
       "7  2023-01-22 14:27:02+00:00      KirkDBorne   \n",
       "8  2023-01-22 13:35:36+00:00      HTH_Odisha   \n",
       "9  2023-01-22 12:37:12+00:00     DataSciNews   \n",
       "10 2023-01-22 12:31:26+00:00      HTH_Odisha   \n",
       "11 2023-01-22 12:29:47+00:00      HTH_Odisha   \n",
       "12 2023-01-22 12:18:03+00:00     barandbench   \n",
       "13 2023-01-22 11:58:39+00:00     barandbench   \n",
       "14 2023-01-22 11:39:47+00:00  ArvindKejriwal   \n",
       "15 2023-01-22 11:35:51+00:00     barandbench   \n",
       "16 2023-01-22 11:32:48+00:00     barandbench   \n",
       "17 2023-01-22 11:24:27+00:00     barandbench   \n",
       "18 2023-01-22 10:59:23+00:00    narendramodi   \n",
       "19 2023-01-22 10:58:40+00:00    narendramodi   \n",
       "\n",
       "                                                Tweet  \n",
       "0   कल पराक्रम दिवस पर मां भारती की वीर संतानों के...  \n",
       "1   Attended the DGP/IGP Conference in Delhi. Ther...  \n",
       "2   HT @AlexFleischer1 &gt;&gt; Smart approaches t...  \n",
       "3   RT @Eli_Krumova: #IoTChampionsLeague Week 45 2...  \n",
       "4   #Artificial_Intelligence Revolution — The Guid...  \n",
       "5   RT @pierrepinna: Most Popular #MachineLearning...  \n",
       "6   Selling #Artificial_Intelligence To The Busine...  \n",
       "7   #DeepLearning vs #ReinforcementLearning:\\n\\nht...  \n",
       "8   Utkalika is proud to associate with the ongoin...  \n",
       "9   [in case you missed it] Data Science Weekly - ...  \n",
       "10  RT @DhciOdisha: VARINDIA, India’s Frontline IT...  \n",
       "11  RT @Adhpuri: Raghurajpur Art Mahotsav 2023 alo...  \n",
       "12  PM Narendra Modi lauds CJI DY Chandrachud for ...  \n",
       "13  Man accused of leaving Leela Hotel without pay...  \n",
       "14  हमारे शिक्षकों का ये आत्मविश्वास देखिए। दिल्ली...  \n",
       "15  [Leela Hotel cheating case] Delhi's Patiala Ho...  \n",
       "16  Prime Minister Narendra Modi lauds CJI DY Chan...  \n",
       "17  Karnataka High Court orders ₹3 lakh compensati...  \n",
       "18  India has several languages, which add to our ...  \n",
       "19  At a recent function, the Hon’ble CJI Justice ...  "
      ]
     },
     "execution_count": 13,
     "metadata": {},
     "output_type": "execute_result"
    }
   ],
   "source": [
    "df"
   ]
  },
  {
   "cell_type": "code",
   "execution_count": null,
   "id": "d6b4a6ec",
   "metadata": {},
   "outputs": [],
   "source": [
    "from google.colab import files\n",
    "df.to_csv('df.csv')\n",
    "files.download('df.csv')"
   ]
  },
  {
   "cell_type": "code",
   "execution_count": null,
   "id": "03014fdb",
   "metadata": {},
   "outputs": [],
   "source": []
  }
 ],
 "metadata": {
  "kernelspec": {
   "display_name": "Python 3 (ipykernel)",
   "language": "python",
   "name": "python3"
  },
  "language_info": {
   "codemirror_mode": {
    "name": "ipython",
    "version": 3
   },
   "file_extension": ".py",
   "mimetype": "text/x-python",
   "name": "python",
   "nbconvert_exporter": "python",
   "pygments_lexer": "ipython3",
   "version": "3.9.7"
  }
 },
 "nbformat": 4,
 "nbformat_minor": 5
}
