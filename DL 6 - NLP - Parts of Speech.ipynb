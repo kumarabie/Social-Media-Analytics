{
 "cells": [
  {
   "cell_type": "code",
   "execution_count": 1,
   "id": "5bee221c",
   "metadata": {},
   "outputs": [],
   "source": [
    "#==============================================================================\n",
    "# CellStrat Hub Pack - Natural Language Processing\n",
    "# Compatible tier : Free Tier or above  \n",
    "# Kerner : conda_pytorch_latest_p36 \n",
    "#=============================================================================="
   ]
  },
  {
   "cell_type": "code",
   "execution_count": 2,
   "id": "66e63cff",
   "metadata": {},
   "outputs": [],
   "source": [
    "#=====================================================================================================\n",
    "#In traditional grammar, a part of speech or part-of-speech (abbreviated as POS or PoS) \n",
    "#is a category of words (or, more generally, of lexical items) that have similar grammatical properties.\n",
    "# Words that are assigned to the same part of speech generally display similar syntactic behavior\n",
    "#they play similar roles within the grammatical structure of sentences—and sometimes similar morphology\n",
    "#in that they undergo inflection for similar properties.\n",
    "#======================================================================================================"
   ]
  },
  {
   "cell_type": "code",
   "execution_count": 3,
   "id": "eb8a5a1e",
   "metadata": {},
   "outputs": [],
   "source": [
    "#==============================================================================\n",
    "#Stanza is a collection of accurate and efficient tools for the linguistic analysis\n",
    "# of many human languages.\n",
    "#Starting from raw text to syntactic analysis and entity recognition, \n",
    "# Stanza brings state-of-the-art NLP models to languages of your choosing.\n",
    "#=============================================================================="
   ]
  },
  {
   "cell_type": "code",
   "execution_count": 4,
   "id": "5e357894",
   "metadata": {},
   "outputs": [
    {
     "name": "stdout",
     "output_type": "stream",
     "text": [
      "Collecting stanza\n",
      "  Downloading stanza-1.2.1-py3-none-any.whl (334 kB)\n",
      "\u001b[K     |████████████████████████████████| 334 kB 24.8 MB/s eta 0:00:01\n",
      "\u001b[?25hRequirement already satisfied: protobuf in /home/ec2-user/anaconda3/envs/pytorch_latest_p36/lib/python3.6/site-packages (from stanza) (3.17.3)\n",
      "Collecting tqdm\n",
      "  Downloading tqdm-4.61.1-py2.py3-none-any.whl (75 kB)\n",
      "\u001b[K     |████████████████████████████████| 75 kB 6.9 MB/s  eta 0:00:01\n",
      "\u001b[?25hRequirement already satisfied: torch>=1.3.0 in /home/ec2-user/anaconda3/envs/pytorch_latest_p36/lib/python3.6/site-packages (from stanza) (1.7.1)\n",
      "Requirement already satisfied: numpy in /home/ec2-user/anaconda3/envs/pytorch_latest_p36/lib/python3.6/site-packages (from stanza) (1.19.2)\n",
      "Requirement already satisfied: requests in /home/ec2-user/anaconda3/envs/pytorch_latest_p36/lib/python3.6/site-packages (from stanza) (2.25.1)\n",
      "Requirement already satisfied: typing_extensions in /home/ec2-user/anaconda3/envs/pytorch_latest_p36/lib/python3.6/site-packages (from torch>=1.3.0->stanza) (3.7.4.3)\n",
      "Requirement already satisfied: dataclasses in /home/ec2-user/anaconda3/envs/pytorch_latest_p36/lib/python3.6/site-packages (from torch>=1.3.0->stanza) (0.8)\n",
      "Requirement already satisfied: six>=1.9 in /home/ec2-user/anaconda3/envs/pytorch_latest_p36/lib/python3.6/site-packages (from protobuf->stanza) (1.15.0)\n",
      "Requirement already satisfied: idna<3,>=2.5 in /home/ec2-user/anaconda3/envs/pytorch_latest_p36/lib/python3.6/site-packages (from requests->stanza) (2.10)\n",
      "Requirement already satisfied: urllib3<1.27,>=1.21.1 in /home/ec2-user/anaconda3/envs/pytorch_latest_p36/lib/python3.6/site-packages (from requests->stanza) (1.26.5)\n",
      "Requirement already satisfied: chardet<5,>=3.0.2 in /home/ec2-user/anaconda3/envs/pytorch_latest_p36/lib/python3.6/site-packages (from requests->stanza) (3.0.4)\n",
      "Requirement already satisfied: certifi>=2017.4.17 in /home/ec2-user/anaconda3/envs/pytorch_latest_p36/lib/python3.6/site-packages (from requests->stanza) (2021.5.30)\n",
      "Installing collected packages: tqdm, stanza\n",
      "Successfully installed stanza-1.2.1 tqdm-4.61.1\n"
     ]
    }
   ],
   "source": [
    "# -*- coding: utf-8 -*-\n",
    "\n",
    "#==============================================================================\n",
    "# Install Stanza\n",
    "#==============================================================================\n",
    "!pip install stanza"
   ]
  },
  {
   "cell_type": "code",
   "execution_count": 5,
   "id": "f1e2035f",
   "metadata": {},
   "outputs": [
    {
     "data": {
      "application/vnd.jupyter.widget-view+json": {
       "model_id": "c7b0ee1c16a044739acce2f5b28c954d",
       "version_major": 2,
       "version_minor": 0
      },
      "text/plain": [
       "Downloading https://raw.githubusercontent.com/stanfordnlp/stanza-resources/main/resources_1.2.1.json:   0%|   …"
      ]
     },
     "metadata": {},
     "output_type": "display_data"
    },
    {
     "name": "stderr",
     "output_type": "stream",
     "text": [
      "2021-06-29 14:26:57 INFO: Downloading default packages for language: en (English)...\n"
     ]
    },
    {
     "data": {
      "application/vnd.jupyter.widget-view+json": {
       "model_id": "7ac03c0a77af4b3b9ad6dcaad58f0b03",
       "version_major": 2,
       "version_minor": 0
      },
      "text/plain": [
       "Downloading http://nlp.stanford.edu/software/stanza/1.2.1/en/default.zip:   0%|          | 0.00/412M [00:00<?,…"
      ]
     },
     "metadata": {},
     "output_type": "display_data"
    },
    {
     "name": "stderr",
     "output_type": "stream",
     "text": [
      "2021-06-29 14:28:25 INFO: Finished downloading models and saved to /home/ec2-user/stanza_resources.\n"
     ]
    }
   ],
   "source": [
    "#==============================================================================\n",
    "# import the stanza library and download the english package\n",
    "#==============================================================================\n",
    "import stanza\n",
    "stanza.download('en')"
   ]
  },
  {
   "cell_type": "code",
   "execution_count": 6,
   "id": "796b4758",
   "metadata": {},
   "outputs": [],
   "source": [
    "#==============================================================================\n",
    "# The dependency parsing module builds a tree structure of words from the input \n",
    "# sentence,which represents the syntactic dependency relations between words\n",
    "# In Stanza, dependency parsing is performed by the DepparseProcessor, \n",
    "# It can be invoked with the name depparse.\n",
    "#==============================================================================\n"
   ]
  },
  {
   "cell_type": "code",
   "execution_count": 7,
   "id": "e457ab6c",
   "metadata": {},
   "outputs": [
    {
     "name": "stderr",
     "output_type": "stream",
     "text": [
      "2021-06-29 14:28:56 WARNING: Can not find mwt: default from official model list. Ignoring it.\n",
      "2021-06-29 14:28:56 INFO: Loading these models for language: en (English):\n",
      "========================\n",
      "| Processor | Package  |\n",
      "------------------------\n",
      "| tokenize  | combined |\n",
      "| pos       | combined |\n",
      "========================\n",
      "\n",
      "2021-06-29 14:28:57 INFO: Use device: cpu\n",
      "2021-06-29 14:28:57 INFO: Loading: tokenize\n",
      "2021-06-29 14:28:57 INFO: Loading: pos\n",
      "2021-06-29 14:28:58 INFO: Done loading processors!\n"
     ]
    }
   ],
   "source": [
    "#====================================================================================\n",
    "#Running the POSProcessor requires the TokenizeProcessor and MWTProcessor.\n",
    "#After the pipeline is run, the Document will contain a list of Sentences,\n",
    "# and the Sentences will contain lists of Words.\n",
    "#The part-of-speech tags can be accessed via the upos(pos) and xpos fields of each Word, \n",
    "#=======================================================================================\n",
    "nlp = stanza.Pipeline(lang='en', processors='tokenize,mwt,pos')\n"
   ]
  },
  {
   "cell_type": "code",
   "execution_count": 8,
   "id": "6e52867c",
   "metadata": {},
   "outputs": [
    {
     "name": "stdout",
     "output_type": "stream",
     "text": [
      "word: Barack\tupos: PROPN\txpos: NNP\tfeats: Number=Sing\n",
      "word: Obama\tupos: PROPN\txpos: NNP\tfeats: Number=Sing\n",
      "word: was\tupos: AUX\txpos: VBD\tfeats: Mood=Ind|Number=Sing|Person=3|Tense=Past|VerbForm=Fin\n",
      "word: born\tupos: VERB\txpos: VBN\tfeats: Tense=Past|VerbForm=Part|Voice=Pass\n",
      "word: in\tupos: ADP\txpos: IN\tfeats: _\n",
      "word: Hawaii\tupos: PROPN\txpos: NNP\tfeats: Number=Sing\n",
      "word: .\tupos: PUNCT\txpos: .\tfeats: _\n",
      "word: He\tupos: PRON\txpos: PRP\tfeats: Case=Nom|Gender=Masc|Number=Sing|Person=3|PronType=Prs\n",
      "word: was\tupos: AUX\txpos: VBD\tfeats: Mood=Ind|Number=Sing|Person=3|Tense=Past|VerbForm=Fin\n",
      "word: elected\tupos: VERB\txpos: VBN\tfeats: Tense=Past|VerbForm=Part|Voice=Pass\n",
      "word: president\tupos: NOUN\txpos: NN\tfeats: Number=Sing\n",
      "word: in\tupos: ADP\txpos: IN\tfeats: _\n",
      "word: 2008\tupos: NUM\txpos: CD\tfeats: NumForm=Digit|NumType=Card\n",
      "word: .\tupos: PUNCT\txpos: .\tfeats: _\n"
     ]
    }
   ],
   "source": [
    "#=============================================================================================\n",
    "# As can be seen in the result, we can tell that the word was is a third-person auxiliary verb \n",
    "# in the past tense from Stanza’s analysis.\n",
    "#==============================================================================================\n",
    "doc = nlp(\"Barack Obama was born in Hawaii. He was elected president in 2008.\")\n",
    "print(*[f'word: {word.text}\\tupos: {word.upos}\\txpos: {word.xpos}\\tfeats: {word.feats if word.feats else \"_\"}' for sent in doc.sentences for word in sent.words], sep='\\n')\n"
   ]
  },
  {
   "cell_type": "code",
   "execution_count": null,
   "id": "0cd374d9",
   "metadata": {},
   "outputs": [],
   "source": []
  }
 ],
 "metadata": {
  "kernelspec": {
   "display_name": "conda_pytorch_latest_p36",
   "language": "python",
   "name": "conda_pytorch_latest_p36"
  },
  "language_info": {
   "codemirror_mode": {
    "name": "ipython",
    "version": 3
   },
   "file_extension": ".py",
   "mimetype": "text/x-python",
   "name": "python",
   "nbconvert_exporter": "python",
   "pygments_lexer": "ipython3",
   "version": "3.6.13"
  }
 },
 "nbformat": 4,
 "nbformat_minor": 5
}
