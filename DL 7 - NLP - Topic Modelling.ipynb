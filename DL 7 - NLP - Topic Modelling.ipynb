{
 "cells": [
  {
   "cell_type": "code",
   "execution_count": 1,
   "metadata": {},
   "outputs": [],
   "source": [
    "#==============================================================================\n",
    "# CellStrat Hub Pack - Natural Language Processing\n",
    "# Compatible tier : Free Tier or above  \n",
    "# Kerner : conda_pytorch_latest_p36 \n",
    "#=============================================================================="
   ]
  },
  {
   "cell_type": "code",
   "execution_count": 2,
   "metadata": {},
   "outputs": [],
   "source": [
    "#==============================================================================================\n",
    "#Topic modeling is an unsupervised machine learning technique that's capable of scanning a set \n",
    "# of documents, detecting word and phrase patterns within them, and automatically clustering \n",
    "# word groups and similar expressions that best characterize a set of documentsr\n",
    "#=============================================================================================="
   ]
  },
  {
   "cell_type": "code",
   "execution_count": 3,
   "metadata": {},
   "outputs": [],
   "source": [
    "#==============================================================================================\n",
    "# Latent Dirichlet Allocation (LDA) and LSA are based on the same underlying assumptions: \n",
    "# The distributional hypothesis, (i.e. similar topics make use of similar words) and the \n",
    "# statistical mixture hypothesis (i.e. documents talk about several topics) for which a \n",
    "# statistical distribution can be determined. The purpose of LDA is mapping each document in our \n",
    "# corpus to a set of topics which covers a good deal of the words in the document.\n",
    "#==============================================================================================\n"
   ]
  },
  {
   "cell_type": "code",
   "execution_count": 4,
   "metadata": {},
   "outputs": [
    {
     "name": "stdout",
     "output_type": "stream",
     "text": [
      "Collecting lda\n",
      "  Downloading lda-2.0.0.tar.gz (320 kB)\n",
      "Collecting pbr<4,>=0.6\n",
      "  Downloading pbr-3.1.1-py2.py3-none-any.whl (99 kB)\n",
      "Requirement already satisfied: numpy<2.0,>=1.13.0 in c:\\programdata\\anaconda3\\lib\\site-packages (from lda) (1.21.2)\n",
      "Building wheels for collected packages: lda\n",
      "  Building wheel for lda (setup.py): started\n",
      "  Building wheel for lda (setup.py): finished with status 'error'\n",
      "  Running setup.py clean for lda\n",
      "Failed to build lda\n",
      "Installing collected packages: pbr, lda\n",
      "    Running setup.py install for lda: started\n",
      "    Running setup.py install for lda: finished with status 'error'\n"
     ]
    },
    {
     "name": "stderr",
     "output_type": "stream",
     "text": [
      "  ERROR: Command errored out with exit status 1:\n",
      "   command: 'C:\\ProgramData\\Anaconda3\\python.exe' -u -c 'import sys, setuptools, tokenize; sys.argv[0] = '\"'\"'C:\\\\Users\\\\Pradip Kumar Bala\\\\AppData\\\\Local\\\\Temp\\\\pip-install-vo412ypf\\\\lda\\\\setup.py'\"'\"'; __file__='\"'\"'C:\\\\Users\\\\Pradip Kumar Bala\\\\AppData\\\\Local\\\\Temp\\\\pip-install-vo412ypf\\\\lda\\\\setup.py'\"'\"';f=getattr(tokenize, '\"'\"'open'\"'\"', open)(__file__);code=f.read().replace('\"'\"'\\r\\n'\"'\"', '\"'\"'\\n'\"'\"');f.close();exec(compile(code, __file__, '\"'\"'exec'\"'\"'))' bdist_wheel -d 'C:\\Users\\Pradip Kumar Bala\\AppData\\Local\\Temp\\pip-wheel-xw0ep3bh'\n",
      "       cwd: C:\\Users\\Pradip Kumar Bala\\AppData\\Local\\Temp\\pip-install-vo412ypf\\lda\\\n",
      "  Complete output (35 lines):\n",
      "  running bdist_wheel\n",
      "  running build\n",
      "  running build_py\n",
      "  creating build\n",
      "  creating build\\lib.win-amd64-3.8\n",
      "  creating build\\lib.win-amd64-3.8\\lda\n",
      "  creating build\\lib.win-amd64-3.8\\lda\\tests\n",
      "  copying lda\\tests\\test_datasets.py -> build\\lib.win-amd64-3.8\\lda\\tests\n",
      "  copying lda\\tests\\test_lda.py -> build\\lib.win-amd64-3.8\\lda\\tests\n",
      "  copying lda\\tests\\test_lda_reuters.py -> build\\lib.win-amd64-3.8\\lda\\tests\n",
      "  copying lda\\tests\\test_lda_sparse.py -> build\\lib.win-amd64-3.8\\lda\\tests\n",
      "  copying lda\\tests\\test_lda_transform.py -> build\\lib.win-amd64-3.8\\lda\\tests\n",
      "  copying lda\\tests\\test_utils.py -> build\\lib.win-amd64-3.8\\lda\\tests\n",
      "  copying lda\\tests\\__init__.py -> build\\lib.win-amd64-3.8\\lda\\tests\n",
      "  copying lda\\datasets.py -> build\\lib.win-amd64-3.8\\lda\n",
      "  copying lda\\lda.py -> build\\lib.win-amd64-3.8\\lda\n",
      "  copying lda\\utils.py -> build\\lib.win-amd64-3.8\\lda\n",
      "  copying lda\\_setup_hooks.py -> build\\lib.win-amd64-3.8\\lda\n",
      "  copying lda\\__init__.py -> build\\lib.win-amd64-3.8\\lda\n",
      "  running egg_info\n",
      "  writing lda.egg-info\\PKG-INFO\n",
      "  writing dependency_links to lda.egg-info\\dependency_links.txt\n",
      "  writing requirements to lda.egg-info\\requires.txt\n",
      "  writing top-level names to lda.egg-info\\top_level.txt\n",
      "  [pbr] Reusing existing SOURCES.txt\n",
      "  copying lda\\tests\\reuters.ldac -> build\\lib.win-amd64-3.8\\lda\\tests\n",
      "  copying lda\\tests\\reuters.titles -> build\\lib.win-amd64-3.8\\lda\\tests\n",
      "  copying lda\\tests\\reuters.tokens -> build\\lib.win-amd64-3.8\\lda\\tests\n",
      "  copying lda\\_lda.c -> build\\lib.win-amd64-3.8\\lda\n",
      "  copying lda\\_lda.pyx -> build\\lib.win-amd64-3.8\\lda\n",
      "  copying lda\\gamma.c -> build\\lib.win-amd64-3.8\\lda\n",
      "  copying lda\\gamma.h -> build\\lib.win-amd64-3.8\\lda\n",
      "  running build_ext\n",
      "  building 'lda._lda' extension\n",
      "  error: Microsoft Visual C++ 14.0 is required. Get it with \"Build Tools for Visual Studio\": https://visualstudio.microsoft.com/downloads/\n",
      "  ----------------------------------------\n",
      "  ERROR: Failed building wheel for lda\n",
      "    ERROR: Command errored out with exit status 1:\n",
      "     command: 'C:\\ProgramData\\Anaconda3\\python.exe' -u -c 'import sys, setuptools, tokenize; sys.argv[0] = '\"'\"'C:\\\\Users\\\\Pradip Kumar Bala\\\\AppData\\\\Local\\\\Temp\\\\pip-install-vo412ypf\\\\lda\\\\setup.py'\"'\"'; __file__='\"'\"'C:\\\\Users\\\\Pradip Kumar Bala\\\\AppData\\\\Local\\\\Temp\\\\pip-install-vo412ypf\\\\lda\\\\setup.py'\"'\"';f=getattr(tokenize, '\"'\"'open'\"'\"', open)(__file__);code=f.read().replace('\"'\"'\\r\\n'\"'\"', '\"'\"'\\n'\"'\"');f.close();exec(compile(code, __file__, '\"'\"'exec'\"'\"'))' install --record 'C:\\Users\\Pradip Kumar Bala\\AppData\\Local\\Temp\\pip-record-qgbcuvw1\\install-record.txt' --single-version-externally-managed --compile --install-headers 'C:\\ProgramData\\Anaconda3\\Include\\lda'\n",
      "         cwd: C:\\Users\\Pradip Kumar Bala\\AppData\\Local\\Temp\\pip-install-vo412ypf\\lda\\\n",
      "    Complete output (39 lines):\n",
      "    C:\\ProgramData\\Anaconda3\\lib\\site-packages\\setuptools\\dist.py:44: DistDeprecationWarning: Do not call this function\n",
      "      warnings.warn(\"Do not call this function\", DistDeprecationWarning)\n",
      "    running install\n",
      "    [pbr] Generating AUTHORS\n",
      "    [pbr] AUTHORS complete (0.0s)\n",
      "    running build\n",
      "    running build_py\n",
      "    creating build\n",
      "    creating build\\lib.win-amd64-3.8\n",
      "    creating build\\lib.win-amd64-3.8\\lda\n",
      "    creating build\\lib.win-amd64-3.8\\lda\\tests\n",
      "    copying lda\\tests\\test_datasets.py -> build\\lib.win-amd64-3.8\\lda\\tests\n",
      "    copying lda\\tests\\test_lda.py -> build\\lib.win-amd64-3.8\\lda\\tests\n",
      "    copying lda\\tests\\test_lda_reuters.py -> build\\lib.win-amd64-3.8\\lda\\tests\n",
      "    copying lda\\tests\\test_lda_sparse.py -> build\\lib.win-amd64-3.8\\lda\\tests\n",
      "    copying lda\\tests\\test_lda_transform.py -> build\\lib.win-amd64-3.8\\lda\\tests\n",
      "    copying lda\\tests\\test_utils.py -> build\\lib.win-amd64-3.8\\lda\\tests\n",
      "    copying lda\\tests\\__init__.py -> build\\lib.win-amd64-3.8\\lda\\tests\n",
      "    copying lda\\datasets.py -> build\\lib.win-amd64-3.8\\lda\n",
      "    copying lda\\lda.py -> build\\lib.win-amd64-3.8\\lda\n",
      "    copying lda\\utils.py -> build\\lib.win-amd64-3.8\\lda\n",
      "    copying lda\\_setup_hooks.py -> build\\lib.win-amd64-3.8\\lda\n",
      "    copying lda\\__init__.py -> build\\lib.win-amd64-3.8\\lda\n",
      "    running egg_info\n",
      "    writing lda.egg-info\\PKG-INFO\n",
      "    writing dependency_links to lda.egg-info\\dependency_links.txt\n",
      "    writing requirements to lda.egg-info\\requires.txt\n",
      "    writing top-level names to lda.egg-info\\top_level.txt\n",
      "    [pbr] Reusing existing SOURCES.txt\n",
      "    copying lda\\tests\\reuters.ldac -> build\\lib.win-amd64-3.8\\lda\\tests\n",
      "    copying lda\\tests\\reuters.titles -> build\\lib.win-amd64-3.8\\lda\\tests\n",
      "    copying lda\\tests\\reuters.tokens -> build\\lib.win-amd64-3.8\\lda\\tests\n",
      "    copying lda\\_lda.c -> build\\lib.win-amd64-3.8\\lda\n",
      "    copying lda\\_lda.pyx -> build\\lib.win-amd64-3.8\\lda\n",
      "    copying lda\\gamma.c -> build\\lib.win-amd64-3.8\\lda\n",
      "    copying lda\\gamma.h -> build\\lib.win-amd64-3.8\\lda\n",
      "    running build_ext\n",
      "    building 'lda._lda' extension\n",
      "    error: Microsoft Visual C++ 14.0 is required. Get it with \"Build Tools for Visual Studio\": https://visualstudio.microsoft.com/downloads/\n",
      "    ----------------------------------------\n",
      "ERROR: Command errored out with exit status 1: 'C:\\ProgramData\\Anaconda3\\python.exe' -u -c 'import sys, setuptools, tokenize; sys.argv[0] = '\"'\"'C:\\\\Users\\\\Pradip Kumar Bala\\\\AppData\\\\Local\\\\Temp\\\\pip-install-vo412ypf\\\\lda\\\\setup.py'\"'\"'; __file__='\"'\"'C:\\\\Users\\\\Pradip Kumar Bala\\\\AppData\\\\Local\\\\Temp\\\\pip-install-vo412ypf\\\\lda\\\\setup.py'\"'\"';f=getattr(tokenize, '\"'\"'open'\"'\"', open)(__file__);code=f.read().replace('\"'\"'\\r\\n'\"'\"', '\"'\"'\\n'\"'\"');f.close();exec(compile(code, __file__, '\"'\"'exec'\"'\"'))' install --record 'C:\\Users\\Pradip Kumar Bala\\AppData\\Local\\Temp\\pip-record-qgbcuvw1\\install-record.txt' --single-version-externally-managed --compile --install-headers 'C:\\ProgramData\\Anaconda3\\Include\\lda' Check the logs for full command output.\n"
     ]
    },
    {
     "ename": "ModuleNotFoundError",
     "evalue": "No module named 'lda'",
     "output_type": "error",
     "traceback": [
      "\u001b[1;31m---------------------------------------------------------------------------\u001b[0m",
      "\u001b[1;31mModuleNotFoundError\u001b[0m                       Traceback (most recent call last)",
      "\u001b[1;32m<ipython-input-4-6d79a2f0849e>\u001b[0m in \u001b[0;36m<module>\u001b[1;34m\u001b[0m\n\u001b[0;32m      6\u001b[0m \u001b[1;32mimport\u001b[0m \u001b[0mnumpy\u001b[0m \u001b[1;32mas\u001b[0m \u001b[0mnp\u001b[0m\u001b[1;33m\u001b[0m\u001b[1;33m\u001b[0m\u001b[0m\n\u001b[0;32m      7\u001b[0m \u001b[0mget_ipython\u001b[0m\u001b[1;33m(\u001b[0m\u001b[1;33m)\u001b[0m\u001b[1;33m.\u001b[0m\u001b[0msystem\u001b[0m\u001b[1;33m(\u001b[0m\u001b[1;34m'pip install lda'\u001b[0m\u001b[1;33m)\u001b[0m\u001b[1;33m\u001b[0m\u001b[1;33m\u001b[0m\u001b[0m\n\u001b[1;32m----> 8\u001b[1;33m \u001b[1;32mimport\u001b[0m \u001b[0mlda\u001b[0m\u001b[1;33m\u001b[0m\u001b[1;33m\u001b[0m\u001b[0m\n\u001b[0m\u001b[0;32m      9\u001b[0m \u001b[1;32mimport\u001b[0m \u001b[0mlda\u001b[0m\u001b[1;33m.\u001b[0m\u001b[0mdatasets\u001b[0m\u001b[1;33m\u001b[0m\u001b[1;33m\u001b[0m\u001b[0m\n",
      "\u001b[1;31mModuleNotFoundError\u001b[0m: No module named 'lda'"
     ]
    }
   ],
   "source": [
    "# -*- coding: utf-8 -*-\n",
    "\n",
    "#==============================================================================\n",
    "# Install LDA library\n",
    "#=============================================================================\n",
    "import numpy as np\n",
    "!pip install lda\n",
    "import lda\n",
    "import lda.datasets"
   ]
  },
  {
   "cell_type": "code",
   "execution_count": null,
   "metadata": {},
   "outputs": [],
   "source": [
    "#==============================================================================\n",
    "# The input below, X, is a document-term matrix (sparse matrices are accepted).\n",
    "\n",
    "#Document term matrix : Document in rows, terms(word frequencies) as columns : \n",
    "\n",
    "#Document is vectorized. LDA accepts DTM as input\n",
    "#==============================================================================\n",
    "\n",
    "x=lda.datasets.load_reuters()\n",
    "print(x) "
   ]
  },
  {
   "cell_type": "code",
   "execution_count": null,
   "metadata": {},
   "outputs": [],
   "source": [
    "#==============================================================================\n",
    "#Pring the shape of the DTM\n",
    "#==============================================================================\n",
    "x.shape\n"
   ]
  },
  {
   "cell_type": "code",
   "execution_count": null,
   "metadata": {},
   "outputs": [],
   "source": [
    "#==============================================================================\n",
    "#Vocabulary details of the dataset.\n",
    "#The below vocabs are represented in DTM matrix\n",
    "#==============================================================================\n",
    "vocab=lda.datasets.load_reuters_vocab()\n",
    "print(vocab)"
   ]
  },
  {
   "cell_type": "code",
   "execution_count": null,
   "metadata": {},
   "outputs": [],
   "source": [
    "#==============================================================================\n",
    "#Print the titles in the existing dataset\n",
    "#==============================================================================\n",
    "titles=lda.datasets.load_reuters_titles()\n",
    "print(titles)"
   ]
  },
  {
   "cell_type": "code",
   "execution_count": null,
   "metadata": {},
   "outputs": [],
   "source": [
    "#========================================================================================\n",
    "#n_topics : The number of requested latent topics to be extracted from the training corpus.\n",
    "#n_iter: Maximum number of iterations through the corpus when inferring the topic distribution\n",
    "#==========================================================================================\n",
    "model=lda.LDA(n_topics=20,n_iter=1500,random_state=1)"
   ]
  },
  {
   "cell_type": "code",
   "execution_count": null,
   "metadata": {},
   "outputs": [],
   "source": [
    "model.fit(x)"
   ]
  },
  {
   "cell_type": "code",
   "execution_count": null,
   "metadata": {},
   "outputs": [],
   "source": [
    "topic_word = model.topic_word_\n",
    "print(topic_word)"
   ]
  },
  {
   "cell_type": "code",
   "execution_count": null,
   "metadata": {},
   "outputs": [],
   "source": [
    " n_top_words = 8"
   ]
  },
  {
   "cell_type": "code",
   "execution_count": null,
   "metadata": {},
   "outputs": [],
   "source": [
    "#========================================================================================\n",
    "#Each topic is combination of 8 key words as per our selction\n",
    "#Total 20 topics are arrived at\n",
    "#=========================================================================================\n",
    "for i,topic_dist in enumerate(topic_word):\n",
    "    topic_words = np.array(vocab)[np.argsort(topic_dist)][:-(n_top_words+1):-1]\n",
    "    print('Topic {}: {}'.format(i, ' '.join(topic_words)))"
   ]
  },
  {
   "cell_type": "code",
   "execution_count": null,
   "metadata": {},
   "outputs": [],
   "source": [
    "#========================================================================================\n",
    "#Each topic represented by vector\n",
    "#=========================================================================================\n",
    "doc_topic = model.doc_topic_\n",
    "print(doc_topic)"
   ]
  },
  {
   "cell_type": "code",
   "execution_count": null,
   "metadata": {},
   "outputs": [],
   "source": [
    "#========================================================================================\n",
    "#Each document is represnted by means of 20 topics\n",
    "#=========================================================================================\n",
    "doc_topic.shape"
   ]
  },
  {
   "cell_type": "code",
   "execution_count": null,
   "metadata": {},
   "outputs": [],
   "source": [
    "print(titles)"
   ]
  },
  {
   "cell_type": "code",
   "execution_count": null,
   "metadata": {},
   "outputs": [],
   "source": [
    "#========================================================================================\n",
    "# Display the topic details\n",
    "#=========================================================================================\n",
    "for i in range(10):\n",
    "    print(\"{} (top topic: {})\".format(titles[i], doc_topic[i].argmax()))"
   ]
  },
  {
   "cell_type": "code",
   "execution_count": null,
   "metadata": {},
   "outputs": [],
   "source": []
  },
  {
   "cell_type": "code",
   "execution_count": null,
   "metadata": {},
   "outputs": [],
   "source": []
  }
 ],
 "metadata": {
  "kernelspec": {
   "display_name": "Python 3",
   "language": "python",
   "name": "python3"
  },
  "language_info": {
   "codemirror_mode": {
    "name": "ipython",
    "version": 3
   },
   "file_extension": ".py",
   "mimetype": "text/x-python",
   "name": "python",
   "nbconvert_exporter": "python",
   "pygments_lexer": "ipython3",
   "version": "3.8.3"
  }
 },
 "nbformat": 4,
 "nbformat_minor": 5
}
